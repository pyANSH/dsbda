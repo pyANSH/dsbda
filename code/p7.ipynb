{
 "cells": [
  {
   "cell_type": "markdown",
   "id": "392b28ed",
   "metadata": {},
   "source": [
    "Extract Sample document and apply following document preprocessing methods:\n",
    "Tokenization, POS Tagging, stop words removal, Stemming and Lemmatization.\n",
    "2. Create representation of document by calculating Term Frequency and Inverse Document \n",
    "Frequency"
   ]
  },
  {
   "cell_type": "code",
   "execution_count": 24,
   "id": "8a43949c",
   "metadata": {},
   "outputs": [],
   "source": [
    "text = \"Hello Mr. Smith, how are you doing today? The weather is great, and city is awesome. The sky is pinkish-blue. You shouldn't eat cardboard\"\n",
    "\n",
    "# Tokenization\n",
    "\n",
    "import nltk as n\n",
    "from nltk.tokenize import sent_tokenize, word_tokenize\n",
    "st = sent_tokenize(text)\n",
    "wo = word_tokenize(text)\n",
    "\n",
    "# POS Tagging\n",
    "\n",
    "pos = n.pos_tag(wo)\n",
    "\n",
    "# stop words removal\n",
    "\n",
    "from nltk.corpus import stopwords\n",
    "stop_words = stopwords.words('english')\n",
    "filters = []\n",
    "for w in wo:\n",
    "    if w not in stop_words:\n",
    "        filters.append(w)\n",
    "    \n",
    "# Stemming and Lemmatization\n",
    "\n",
    "from nltk.stem import PorterStemmer, WordNetLemmatizer\n",
    "ps = PorterStemmer()\n",
    "st = []\n",
    "for w in wo:\n",
    "    st.append(ps.stem(w))\n",
    "lem = WordNetLemmatizer()\n",
    "l = []\n",
    "for w in wo:\n",
    "    l.append(lem.lemmatize(w))\n",
    "    \n",
    "# term frequency\n",
    "\n",
    "# from sklearn.feature_extraction.text import CountVectorizer\n",
    "# cv = CountVectorizer\n",
    "# t_d = cv.fit_transform(wo)\n",
    "# for ele1,ele2 in zip(cv.get_feature_names(), np.ravel(transformed_data.sum(axis=0))):\n",
    "#     print(ele1 , ele2)\n",
    "\n"
   ]
  },
  {
   "cell_type": "code",
   "execution_count": null,
   "id": "31897ca0",
   "metadata": {},
   "outputs": [],
   "source": []
  }
 ],
 "metadata": {
  "kernelspec": {
   "display_name": "Python 3 (ipykernel)",
   "language": "python",
   "name": "python3"
  },
  "language_info": {
   "codemirror_mode": {
    "name": "ipython",
    "version": 3
   },
   "file_extension": ".py",
   "mimetype": "text/x-python",
   "name": "python",
   "nbconvert_exporter": "python",
   "pygments_lexer": "ipython3",
   "version": "3.10.3"
  }
 },
 "nbformat": 4,
 "nbformat_minor": 5
}
