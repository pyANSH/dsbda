{
 "cells": [
  {
   "cell_type": "markdown",
   "id": "392b28ed",
   "metadata": {},
   "source": [
    "Extract Sample document and apply following document preprocessing methods:\n",
    "Tokenization, POS Tagging, stop words removal, Stemming and Lemmatization.\n",
    "2. Create representation of document by calculating Term Frequency and Inverse Document \n",
    "Frequency"
   ]
  },
  {
   "cell_type": "code",
   "execution_count": 6,
   "id": "6c874660",
   "metadata": {},
   "outputs": [],
   "source": [
    "text = \"Hello Mr. Smith, how are you doing today? The weather is great, and city is awesome. The sky is pinkish-blue. You shouldn't eat cardboard\"\n",
    "# Tokenization\n",
    "import nltk as n\n",
    "from nltk.tokenize import sent_tokenize, word_tokenize\n",
    "st = sent_tokenize(text)\n",
    "wo = word_tokenize(text)\n",
    "\n",
    "# POS Tagging\n",
    "pos = n.pos_tag(wo)\n",
    "\n",
    "# stop words removal\n",
    "from nltk.corpus import stopwords\n",
    "\n",
    "# Stemming and Lemmatization\n",
    "\n",
    "# Term Frequency\n",
    "\n",
    "# Inverse Document Frequency"
   ]
  },
  {
   "cell_type": "code",
   "execution_count": null,
   "id": "ce50f039",
   "metadata": {},
   "outputs": [],
   "source": []
  }
 ],
 "metadata": {
  "kernelspec": {
   "display_name": "Python 3 (ipykernel)",
   "language": "python",
   "name": "python3"
  },
  "language_info": {
   "codemirror_mode": {
    "name": "ipython",
    "version": 3
   },
   "file_extension": ".py",
   "mimetype": "text/x-python",
   "name": "python",
   "nbconvert_exporter": "python",
   "pygments_lexer": "ipython3",
   "version": "3.10.3"
  }
 },
 "nbformat": 4,
 "nbformat_minor": 5
}
