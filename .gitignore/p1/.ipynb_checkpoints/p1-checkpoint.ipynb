{
 "cells": [
  {
   "cell_type": "markdown",
   "id": "fd155500",
   "metadata": {},
   "source": [
    "Data Wrangling, I\n",
    "Perform the following operations using Python on any open source dataset (e.g., data.csv)\n",
    "1. Import all the required Python Libraries.\n",
    "2. Locate an open source data from the web (e.g. https://www.kaggle.com). Provide a clear \n",
    "description of the data and its source (i.e., URL of the web site).\n",
    "3. Load the Dataset into pandas data frame.\n",
    "4. Data Preprocessing: check for missing values in the data using pandas insult(), describe() \n",
    "function to get some initial statistics. Provide variable descriptions. Types of variables \n",
    "etc. Check the dimensions of the data frame.\n",
    "5. Data Formatting and Data Normalization: Summarize the types of variables by checking \n",
    "the data types (i.e., character, numeric, integer, factor, and logical) of the variables in the \n",
    "data set. If variables are not in the correct data type, apply proper type conversions.\n",
    "6. Turn categorical variables into quantitative variables in Python.\n",
    "In addition to the codes and outputs, explain every operation that you do in the above steps and \n",
    "explain everything that you do to import/read/scrape the data set.\n"
   ]
  },
  {
   "cell_type": "code",
   "execution_count": 1,
   "id": "a294f616",
   "metadata": {},
   "outputs": [],
   "source": [
    "# 1\n",
    "import pandas as pd\n",
    "import numpy as np \n",
    "import seaborn as sn\n",
    "import matplotlib.pyplot as plt"
   ]
  },
  {
   "cell_type": "code",
   "execution_count": null,
   "id": "f1484811",
   "metadata": {},
   "outputs": [],
   "source": [
    "# 2,3 \n",
    "dt = pd.read_csv(\"https://raw.githubusercontent.com/dphi-official/Datasets/master/abalone_data/training_set_label.csv\")"
   ]
  },
  {
   "cell_type": "code",
   "execution_count": null,
   "id": "ca0e3e49",
   "metadata": {},
   "outputs": [],
   "source": []
  },
  {
   "cell_type": "code",
   "execution_count": null,
   "id": "981cc460",
   "metadata": {},
   "outputs": [],
   "source": [
    "dt.head()"
   ]
  },
  {
   "cell_type": "code",
   "execution_count": null,
   "id": "baddc894",
   "metadata": {
    "scrolled": true
   },
   "outputs": [],
   "source": [
    "# 5\n",
    "dt.info()"
   ]
  },
  {
   "cell_type": "code",
   "execution_count": null,
   "id": "dfe4cd2a",
   "metadata": {},
   "outputs": [],
   "source": [
    "dt.isna().sum()"
   ]
  },
  {
   "cell_type": "code",
   "execution_count": null,
   "id": "59e96e95",
   "metadata": {},
   "outputs": [],
   "source": [
    "# part 1 use describe()\n",
    "# 4\n",
    "dt.describe()"
   ]
  },
  {
   "cell_type": "code",
   "execution_count": null,
   "id": "719547d5",
   "metadata": {},
   "outputs": [],
   "source": [
    "# ch = sn.countplot(dt.Sex)"
   ]
  },
  {
   "cell_type": "code",
   "execution_count": null,
   "id": "687dfffd",
   "metadata": {},
   "outputs": [],
   "source": [
    "# sn.heatmap(dt.corr(), annot = True)"
   ]
  },
  {
   "cell_type": "code",
   "execution_count": null,
   "id": "34433412",
   "metadata": {
    "scrolled": true
   },
   "outputs": [],
   "source": [
    "# sn.boxplot(data=dt,x='Sex', y='Rings')"
   ]
  },
  {
   "cell_type": "markdown",
   "id": "27d13313",
   "metadata": {},
   "source": []
  },
  {
   "cell_type": "code",
   "execution_count": null,
   "id": "04385ec0",
   "metadata": {
    "scrolled": true
   },
   "outputs": [],
   "source": [
    "# categorical to quantitative\n",
    "dt2 = pd.get_dummies(dt, columns = [\"Sex\"])\n",
    "print(dt2)"
   ]
  },
  {
   "cell_type": "code",
   "execution_count": null,
   "id": "896560ae",
   "metadata": {},
   "outputs": [],
   "source": [
    "dt2.describe()"
   ]
  },
  {
   "cell_type": "code",
   "execution_count": null,
   "id": "d34173bd",
   "metadata": {},
   "outputs": [],
   "source": []
  }
 ],
 "metadata": {
  "kernelspec": {
   "display_name": "Python 3 (ipykernel)",
   "language": "python",
   "name": "python3"
  },
  "language_info": {
   "codemirror_mode": {
    "name": "ipython",
    "version": 3
   },
   "file_extension": ".py",
   "mimetype": "text/x-python",
   "name": "python",
   "nbconvert_exporter": "python",
   "pygments_lexer": "ipython3",
   "version": "3.10.3"
  }
 },
 "nbformat": 4,
 "nbformat_minor": 5
}
